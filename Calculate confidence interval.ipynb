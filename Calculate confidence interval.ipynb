{
 "cells": [
  {
   "cell_type": "code",
   "execution_count": 211,
   "metadata": {
    "collapsed": false
   },
   "outputs": [
    {
     "data": {
      "text/plain": [
       "[OrderedDict([('100>200', '0.144385681'),\n",
       "              ('200>300', '0.161338519'),\n",
       "              ('300>400', '0.176910274'),\n",
       "              ('400>500', '0.23873508'),\n",
       "              ('500>600', '0.198436598'),\n",
       "              ('600>700', '0.383761611')]),\n",
       " OrderedDict([('100>200', '0.143647366'),\n",
       "              ('200>300', '0.161730892'),\n",
       "              ('300>400', '0.172607969'),\n",
       "              ('400>500', '0.244946462'),\n",
       "              ('500>600', '0.226715572'),\n",
       "              ('600>700', '0.358219286')]),\n",
       " OrderedDict([('100>200', '0.144759951'),\n",
       "              ('200>300', '0.160470326'),\n",
       "              ('300>400', '0.168262858'),\n",
       "              ('400>500', '0.245370959'),\n",
       "              ('500>600', '0.239014569'),\n",
       "              ('600>700', '0.326199956')])]"
      ]
     },
     "execution_count": 211,
     "metadata": {},
     "output_type": "execute_result"
    }
   ],
   "source": [
    "import csv\n",
    "import pandas as pd\n",
    "\n",
    "%precision 4\n",
    "\n",
    "with open('Em_Values.csv') as csvfile:\n",
    "    emissivity = list(csv.DictReader(csvfile))\n",
    "    \n",
    "emissivity[:3] # The first three dictionaries in our list.\n"
   ]
  },
  {
   "cell_type": "code",
   "execution_count": 192,
   "metadata": {
    "collapsed": true
   },
   "outputs": [],
   "source": [
    "\n",
    "import numpy as np\n",
    "import scipy as sp\n",
    "import scipy.stats\n",
    "\n",
    "def mean_confidence_interval(data, confidence=0.95):\n",
    "    a = 1.0*np.array(data)\n",
    "    n = len(a)\n",
    "    m, se = np.mean(a), scipy.stats.sem(a)\n",
    "    h = se * sp.stats.t._ppf((1+confidence)/2., n-1)\n",
    "    return m, m-h, m+h,h"
   ]
  },
  {
   "cell_type": "code",
   "execution_count": 58,
   "metadata": {
    "collapsed": false
   },
   "outputs": [
    {
     "data": {
      "text/plain": [
       "odict_keys(['100>200', '200>300', '300>400', '400>500', '500>600', '600>700'])"
      ]
     },
     "execution_count": 58,
     "metadata": {},
     "output_type": "execute_result"
    }
   ],
   "source": [
    "emissivity[0].keys() #column names"
   ]
  },
  {
   "cell_type": "code",
   "execution_count": 59,
   "metadata": {
    "collapsed": false
   },
   "outputs": [
    {
     "data": {
      "text/plain": [
       "odict_values(['0.144385681', '0.161338519', '0.176910274', '0.23873508', '0.198436598', '0.383761611'])"
      ]
     },
     "execution_count": 59,
     "metadata": {},
     "output_type": "execute_result"
    }
   ],
   "source": [
    "emissivity[0].values() #first row of values"
   ]
  },
  {
   "cell_type": "code",
   "execution_count": null,
   "metadata": {
    "collapsed": false
   },
   "outputs": [],
   "source": []
  },
  {
   "cell_type": "code",
   "execution_count": null,
   "metadata": {
    "collapsed": false
   },
   "outputs": [],
   "source": []
  },
  {
   "cell_type": "code",
   "execution_count": null,
   "metadata": {
    "collapsed": false
   },
   "outputs": [],
   "source": []
  },
  {
   "cell_type": "code",
   "execution_count": 104,
   "metadata": {
    "collapsed": false
   },
   "outputs": [],
   "source": [
    "df = pd.DataFrame(emissivity)"
   ]
  },
  {
   "cell_type": "code",
   "execution_count": 184,
   "metadata": {
    "collapsed": false
   },
   "outputs": [
    {
     "data": {
      "text/html": [
       "<div>\n",
       "<table border=\"1\" class=\"dataframe\">\n",
       "  <thead>\n",
       "    <tr style=\"text-align: right;\">\n",
       "      <th></th>\n",
       "      <th>100&gt;200</th>\n",
       "      <th>200&gt;300</th>\n",
       "      <th>300&gt;400</th>\n",
       "      <th>400&gt;500</th>\n",
       "      <th>500&gt;600</th>\n",
       "      <th>600&gt;700</th>\n",
       "    </tr>\n",
       "  </thead>\n",
       "  <tbody>\n",
       "    <tr>\n",
       "      <th>0</th>\n",
       "      <td>0.144385681</td>\n",
       "      <td>0.161338519</td>\n",
       "      <td>0.176910274</td>\n",
       "      <td>0.23873508</td>\n",
       "      <td>0.198436598</td>\n",
       "      <td>0.383761611</td>\n",
       "    </tr>\n",
       "    <tr>\n",
       "      <th>1</th>\n",
       "      <td>0.143647366</td>\n",
       "      <td>0.161730892</td>\n",
       "      <td>0.172607969</td>\n",
       "      <td>0.244946462</td>\n",
       "      <td>0.226715572</td>\n",
       "      <td>0.358219286</td>\n",
       "    </tr>\n",
       "    <tr>\n",
       "      <th>2</th>\n",
       "      <td>0.144759951</td>\n",
       "      <td>0.160470326</td>\n",
       "      <td>0.168262858</td>\n",
       "      <td>0.245370959</td>\n",
       "      <td>0.239014569</td>\n",
       "      <td>0.326199956</td>\n",
       "    </tr>\n",
       "    <tr>\n",
       "      <th>3</th>\n",
       "      <td>0.14590032</td>\n",
       "      <td>0.16022041</td>\n",
       "      <td>0.164668597</td>\n",
       "      <td>0.242887372</td>\n",
       "      <td>0.239082472</td>\n",
       "      <td>0.303739641</td>\n",
       "    </tr>\n",
       "    <tr>\n",
       "      <th>4</th>\n",
       "      <td>0.144621271</td>\n",
       "      <td>0.160144452</td>\n",
       "      <td>0.161503944</td>\n",
       "      <td>0.238977898</td>\n",
       "      <td>0.268582449</td>\n",
       "      <td>0.340837548</td>\n",
       "    </tr>\n",
       "  </tbody>\n",
       "</table>\n",
       "</div>"
      ],
      "text/plain": [
       "       100>200      200>300      300>400      400>500      500>600  \\\n",
       "0  0.144385681  0.161338519  0.176910274   0.23873508  0.198436598   \n",
       "1  0.143647366  0.161730892  0.172607969  0.244946462  0.226715572   \n",
       "2  0.144759951  0.160470326  0.168262858  0.245370959  0.239014569   \n",
       "3   0.14590032   0.16022041  0.164668597  0.242887372  0.239082472   \n",
       "4  0.144621271  0.160144452  0.161503944  0.238977898  0.268582449   \n",
       "\n",
       "       600>700  \n",
       "0  0.383761611  \n",
       "1  0.358219286  \n",
       "2  0.326199956  \n",
       "3  0.303739641  \n",
       "4  0.340837548  "
      ]
     },
     "execution_count": 184,
     "metadata": {},
     "output_type": "execute_result"
    }
   ],
   "source": [
    "df.head()"
   ]
  },
  {
   "cell_type": "code",
   "execution_count": 196,
   "metadata": {
    "collapsed": false
   },
   "outputs": [
    {
     "data": {
      "text/plain": [
       "0.16"
      ]
     },
     "execution_count": 196,
     "metadata": {},
     "output_type": "execute_result"
    }
   ],
   "source": [
    "df12 = df.ix[:,0].copy()\n",
    "em1 = pd.to_numeric(df[\"100>200\"], errors='coerce')\n",
    "em1.mean()"
   ]
  },
  {
   "cell_type": "code",
   "execution_count": 193,
   "metadata": {
    "collapsed": false
   },
   "outputs": [
    {
     "ename": "SyntaxError",
     "evalue": "unexpected EOF while parsing (<ipython-input-193-58c88a77412a>, line 1)",
     "output_type": "error",
     "traceback": [
      "\u001b[0;36m  File \u001b[0;32m\"<ipython-input-193-58c88a77412a>\"\u001b[0;36m, line \u001b[0;32m1\u001b[0m\n\u001b[0;31m    mean_confidence_interval(em1, confidence=0.95\u001b[0m\n\u001b[0m                                                 ^\u001b[0m\n\u001b[0;31mSyntaxError\u001b[0m\u001b[0;31m:\u001b[0m unexpected EOF while parsing\n"
     ]
    }
   ],
   "source": [
    "mean_confidence_interval(em1, confidence=0.95"
   ]
  },
  {
   "cell_type": "code",
   "execution_count": 213,
   "metadata": {
    "collapsed": false
   },
   "outputs": [
    {
     "data": {
      "text/plain": [
       "((0.1620, 0.1592, 0.1648, 0.0028), 0.1620)"
      ]
     },
     "execution_count": 213,
     "metadata": {},
     "output_type": "execute_result"
    }
   ],
   "source": [
    "em1\n",
    "em1 = em1[np.isfinite(em1)]\n",
    "em1\n",
    "mean_confidence_interval(em1, confidence=0.95), em1.mean()"
   ]
  },
  {
   "cell_type": "code",
   "execution_count": 222,
   "metadata": {
    "collapsed": false
   },
   "outputs": [
    {
     "data": {
      "text/plain": [
       "0.3324"
      ]
     },
     "execution_count": 222,
     "metadata": {},
     "output_type": "execute_result"
    }
   ],
   "source": [
    "em6 = pd.to_numeric(df[\"600>700\"], errors='coerce')\n",
    "em6.mean()\n",
    "em6 = em6[np.isfinite(em6)]\n",
    "em6.mean()"
   ]
  },
  {
   "cell_type": "code",
   "execution_count": 225,
   "metadata": {
    "collapsed": false
   },
   "outputs": [
    {
     "data": {
      "text/plain": [
       "((0.3324, 0.3233, 0.3415, 0.0091), 0.3324)"
      ]
     },
     "execution_count": 225,
     "metadata": {},
     "output_type": "execute_result"
    }
   ],
   "source": [
    "mean_confidence_interval(em6, confidence=0.95), em6.mean()"
   ]
  },
  {
   "cell_type": "code",
   "execution_count": 224,
   "metadata": {
    "collapsed": false
   },
   "outputs": [
    {
     "data": {
      "text/plain": [
       "0     0.383762\n",
       "1     0.358219\n",
       "2     0.326200\n",
       "3     0.303740\n",
       "4     0.340838\n",
       "5     0.332990\n",
       "6     0.343039\n",
       "7     0.342783\n",
       "8     0.377193\n",
       "9     0.384081\n",
       "10    0.365436\n",
       "11    0.382022\n",
       "12    0.384650\n",
       "13    0.340993\n",
       "14    0.335405\n",
       "15    0.300376\n",
       "16    0.355352\n",
       "17    0.369902\n",
       "18    0.328491\n",
       "19    0.337095\n",
       "20    0.325599\n",
       "21    0.327254\n",
       "22    0.324860\n",
       "23    0.224239\n",
       "24    0.270673\n",
       "25    0.289071\n",
       "26    0.239082\n",
       "27    0.268582\n",
       "28    0.327254\n",
       "29    0.324860\n",
       "30    0.328491\n",
       "31    0.337095\n",
       "32    0.325599\n",
       "33    0.339928\n",
       "34    0.339035\n",
       "35    0.321958\n",
       "36    0.343039\n",
       "37    0.342783\n",
       "38    0.325313\n",
       "39    0.340993\n",
       "40    0.335405\n",
       "41    0.315802\n",
       "42    0.335699\n",
       "43    0.327347\n",
       "44    0.309999\n",
       "45    0.331004\n",
       "46    0.322746\n",
       "47    0.303740\n",
       "48    0.340838\n",
       "49    0.332990\n",
       "50    0.338355\n",
       "51    0.383045\n",
       "52    0.383488\n",
       "Name: 600>700, dtype: float64"
      ]
     },
     "execution_count": 224,
     "metadata": {},
     "output_type": "execute_result"
    }
   ],
   "source": [
    "em6"
   ]
  },
  {
   "cell_type": "code",
   "execution_count": null,
   "metadata": {
    "collapsed": true
   },
   "outputs": [],
   "source": []
  }
 ],
 "metadata": {
  "kernelspec": {
   "display_name": "Python 3",
   "language": "python",
   "name": "python3"
  },
  "language_info": {
   "codemirror_mode": {
    "name": "ipython",
    "version": 3
   },
   "file_extension": ".py",
   "mimetype": "text/x-python",
   "name": "python",
   "nbconvert_exporter": "python",
   "pygments_lexer": "ipython3",
   "version": "3.6.0"
  }
 },
 "nbformat": 4,
 "nbformat_minor": 2
}
